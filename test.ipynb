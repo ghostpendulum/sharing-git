{
 "metadata": {
  "language_info": {
   "codemirror_mode": {
    "name": "ipython",
    "version": 3
   },
   "file_extension": ".py",
   "mimetype": "text/x-python",
   "name": "python",
   "nbconvert_exporter": "python",
   "pygments_lexer": "ipython3",
   "version": "3.7.5-final"
  },
  "orig_nbformat": 2,
  "kernelspec": {
   "name": "python3",
   "display_name": "Python 3.7.5 64-bit ('test': conda)",
   "metadata": {
    "interpreter": {
     "hash": "1f17939f5fbec67af158657a695ef43de2a65b596ac12c40b66a5c64ab5d78ed"
    }
   }
  }
 },
 "nbformat": 4,
 "nbformat_minor": 2,
 "cells": [
  {
   "cell_type": "code",
   "execution_count": 70,
   "metadata": {},
   "outputs": [],
   "source": [
    "import pandas as pd \n",
    "import urllib.request, json\n",
    "from pandas.io.json import json_normalize \n",
    "#Fetch historical price data from https://api.rain.bh/api/1/prices/history/BTCBHD?interval=1m&from=2020-12-04T00:00:00Z\n",
    "#What is the highest price at the top (00:59, 1:59, 2:59) of every hour? Every day?\n",
    "#What was the last price for each hour"
   ]
  },
  {
   "cell_type": "code",
   "execution_count": 71,
   "metadata": {
    "tags": []
   },
   "outputs": [],
   "source": [
    "x = 'https://api.rain.bh/api/1/prices/history/BTCBHD?interval=1m&from=2020-12-04T00:00:00Z'\n",
    "\n",
    "with urllib.request.urlopen(x) as url:\n",
    "    data = json.loads(url.read().decode())"
   ]
  },
  {
   "cell_type": "code",
   "execution_count": 72,
   "metadata": {},
   "outputs": [],
   "source": [
    "df = json_normalize(data['prices'])\n",
    "df['time'] = pd.to_datetime(df['time'])\n",
    "df['hour'] = df['time'].dt.hour\n",
    "df['minute'] = df['time'].dt.minute\n",
    "df['day'] = df['time'].dt.day"
   ]
  },
  {
   "cell_type": "code",
   "execution_count": 74,
   "metadata": {},
   "outputs": [
    {
     "output_type": "execute_result",
     "data": {
      "text/plain": [
       "hour  minute\n",
       "0     59        6801.713\n",
       "1     59        6750.622\n",
       "2     59        6718.195\n",
       "3     59        6775.885\n",
       "4     59        6774.188\n",
       "5     59        6758.540\n",
       "6     59        6903.971\n",
       "7     59        6918.111\n",
       "8     59        6955.632\n",
       "9     59        6871.352\n",
       "10    59        6845.263\n",
       "11    59        6863.927\n",
       "12    59        6868.264\n",
       "13    59        6873.165\n",
       "14    59        6817.738\n",
       "15    59        6834.517\n",
       "16    59        6855.632\n",
       "17    59        6866.567\n",
       "18    59        6891.264\n",
       "19    59        6938.773\n",
       "20    59        6935.757\n",
       "21    59        6917.281\n",
       "22    59        6910.682\n",
       "23    59        6884.100\n",
       "Name: spot_price, dtype: object"
      ]
     },
     "metadata": {},
     "execution_count": 74
    }
   ],
   "source": [
    "#What is the highest price at the top (00:59, 1:59, 2:59) of every hour? \n",
    "df.query('minute == 59').groupby(['hour','minute'])['spot_price'].max()"
   ]
  },
  {
   "cell_type": "code",
   "execution_count": 75,
   "metadata": {},
   "outputs": [
    {
     "output_type": "execute_result",
     "data": {
      "text/plain": [
       "day\n",
       "10    6955.632\n",
       "11    6801.713\n",
       "Name: spot_price, dtype: object"
      ]
     },
     "metadata": {},
     "execution_count": 75
    }
   ],
   "source": [
    "#What is the highest price at the top (00:59, 1:59, 2:59) of every day? \n",
    "df.query('minute == 59').groupby(['day'])['spot_price'].max()"
   ]
  },
  {
   "cell_type": "code",
   "execution_count": 76,
   "metadata": {},
   "outputs": [
    {
     "output_type": "execute_result",
     "data": {
      "text/plain": [
       "day  hour\n",
       "10   6       6915.283\n",
       "     7       6902.085\n",
       "     8       6917.923\n",
       "     9       6950.353\n",
       "     10      6880.518\n",
       "     11      6853.747\n",
       "     12      6855.067\n",
       "     13      6862.419\n",
       "     14      6881.083\n",
       "     15      6833.763\n",
       "     16      6832.443\n",
       "     17      6856.386\n",
       "     18      6863.173\n",
       "     19      6887.682\n",
       "     20      6950.650\n",
       "     21      6929.724\n",
       "     22      6920.297\n",
       "     23      6912.002\n",
       "11   0       6885.420\n",
       "     1       6790.402\n",
       "     2       6751.188\n",
       "     3       6713.671\n",
       "     4       6786.631\n",
       "     5       6778.147\n",
       "     6       6750.811\n",
       "Name: spot_price, dtype: object"
      ]
     },
     "metadata": {},
     "execution_count": 76
    }
   ],
   "source": [
    "#What was the last price for each hour\n",
    "df.index = df['time']\n",
    "df.groupby(['day','hour'])['spot_price'].last()"
   ]
  }
 ]
}